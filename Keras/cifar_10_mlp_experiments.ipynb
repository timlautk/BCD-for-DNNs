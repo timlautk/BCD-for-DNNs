{
 "cells": [
  {
   "cell_type": "markdown",
   "metadata": {},
   "source": [
    "# MLP on the CIFAR-10 Dataset"
   ]
  },
  {
   "cell_type": "markdown",
   "metadata": {},
   "source": [
    "Trains three simple NNs with 3 hidden layers on the CIFAR-10 dataset. (5 runs, seed = 10, 20, 30, 40, 50)\n",
    "\n",
    "1. 3072-4000-3072-4000-10 (Res Connect; MSE): validation accuracies: 0.4562, \n",
    "\n",
    "2. 3072-4000-1000-4000-10 (MLP; MSE): validation accuracies: \n",
    "\n",
    "3. 3072-4000-3072-4000-10 (Res Connect; Cross-entropy): validation accuracies: \n",
    "\n",
    "~ 6 seconds per epoch on a GTX1070 GPU."
   ]
  },
  {
   "cell_type": "markdown",
   "metadata": {},
   "source": [
    "## Import the Tensorflow package (for Keras) and Reproducility"
   ]
  },
  {
   "cell_type": "code",
   "execution_count": 1,
   "metadata": {},
   "outputs": [],
   "source": [
    "from __future__ import print_function\n",
    "\n",
    "import numpy as np\n",
    "import tensorflow as tf\n",
    "import random as rn\n",
    "\n",
    "import os\n",
    "os.environ['PYTHONHASHSEED'] = '0'\n",
    "\n",
    "seed = 10\n",
    "\n",
    "# The below is necessary for starting Numpy generated random numbers\n",
    "# in a well-defined initial state.\n",
    "\n",
    "np.random.seed(seed)\n",
    "\n",
    "# The below is necessary for starting core Python generated random numbers\n",
    "# in a well-defined state.\n",
    "\n",
    "rn.seed(seed)\n",
    "\n",
    "# Force TensorFlow to use single thread.\n",
    "# Multiple threads are a potential source of\n",
    "# non-reproducible results.\n",
    "# For further details, see: https://stackoverflow.com/questions/42022950/which-seeds-have-to-be-set-where-to-realize-100-reproducibility-of-training-res\n",
    "\n",
    "session_conf = tf.ConfigProto(intra_op_parallelism_threads=1, inter_op_parallelism_threads=1)\n",
    "\n",
    "# from keras import backend as K\n",
    "\n",
    "# The below tf.set_random_seed() will make random number generation\n",
    "# in the TensorFlow backend have a well-defined initial state.\n",
    "# For further details, see: https://www.tensorflow.org/api_docs/python/tf/set_random_seed\n",
    "\n",
    "tf.set_random_seed(seed)\n",
    "\n",
    "sess = tf.Session(graph=tf.get_default_graph(), config=session_conf)\n",
    "tf.keras.backend.set_session(sess)"
   ]
  },
  {
   "cell_type": "markdown",
   "metadata": {},
   "source": [
    "## Import the CIFAR-10 dataset"
   ]
  },
  {
   "cell_type": "code",
   "execution_count": 2,
   "metadata": {},
   "outputs": [
    {
     "name": "stdout",
     "output_type": "stream",
     "text": [
      "50000 train samples\n",
      "10000 test samples\n"
     ]
    }
   ],
   "source": [
    "batch_size = 512\n",
    "num_classes = 10\n",
    "epochs = 100\n",
    "\n",
    "# the data, shuffled and split between train and test sets\n",
    "(x_train, y_train), (x_test, y_test) = tf.keras.datasets.cifar10.load_data()\n",
    "\n",
    "print(x_train.shape[0], 'train samples')\n",
    "print(x_test.shape[0], 'test samples')\n",
    "\n",
    "#print(x_train[0,0:10,0,0])"
   ]
  },
  {
   "cell_type": "markdown",
   "metadata": {},
   "source": [
    "## Visualize Some Training Samples"
   ]
  },
  {
   "cell_type": "code",
   "execution_count": 3,
   "metadata": {},
   "outputs": [],
   "source": [
    "import matplotlib.pyplot as plt\n",
    "%matplotlib inline\n",
    "\n",
    "# fig, axes = plt.subplots(1,5,figsize=(10,10))\n",
    "# print('The first 5 images, followed by 25 random images:')\n",
    "# for i in range(5):\n",
    "#     axes[i].set_axis_off()\n",
    "#     axes[i].imshow(x_train[i], interpolation='nearest')\n",
    "\n",
    "# fig1, axes1 = plt.subplots(5,5,figsize=(8,8))\n",
    "# for j in range(5):\n",
    "#     for k in range(5):\n",
    "#         i = np.random.choice(range(len(x_train)))\n",
    "#         axes1[j][k].set_axis_off()\n",
    "#         axes1[j][k].imshow(x_train[i:i+1][0], interpolation='nearest')"
   ]
  },
  {
   "cell_type": "markdown",
   "metadata": {},
   "source": [
    "## Data Transformation"
   ]
  },
  {
   "cell_type": "code",
   "execution_count": 4,
   "metadata": {},
   "outputs": [],
   "source": [
    "x_train = x_train.reshape((50000, 3*32*32), order='F') # reshaping order fixed to the same as BCD\n",
    "x_test = x_test.reshape((10000, 3*32*32), order='F') # reshaping order fixed to the same as BCD\n",
    "#print(x_train[0,0:10])\n",
    "x_train = x_train.astype('float32')\n",
    "x_test = x_test.astype('float32')\n",
    "x_train /= 255\n",
    "x_test /= 255\n",
    "\n",
    "\n",
    "# convert class vectors to binary class matrices\n",
    "y_train = tf.keras.utils.to_categorical(y_train, num_classes)\n",
    "y_test = tf.keras.utils.to_categorical(y_test, num_classes)"
   ]
  },
  {
   "cell_type": "markdown",
   "metadata": {},
   "source": [
    "# The First Model (Residual Connection)"
   ]
  },
  {
   "cell_type": "markdown",
   "metadata": {},
   "source": [
    "## Model Setup"
   ]
  },
  {
   "cell_type": "markdown",
   "metadata": {},
   "source": [
    "Input -> Fully Connected (4000) -> ReLU -> Fully Connected (3072) -> Add Input -> ReLU -> Fully Connected (4000) -> ReLU -> Fully Connected (10) -> Mean squared loss"
   ]
  },
  {
   "cell_type": "code",
   "execution_count": 5,
   "metadata": {},
   "outputs": [
    {
     "name": "stdout",
     "output_type": "stream",
     "text": [
      "__________________________________________________________________________________________________\n",
      "Layer (type)                    Output Shape         Param #     Connected to                     \n",
      "==================================================================================================\n",
      "input_1 (InputLayer)            (None, 3072)         0                                            \n",
      "__________________________________________________________________________________________________\n",
      "dense_1 (Dense)                 (None, 4000)         12292000    input_1[0][0]                    \n",
      "__________________________________________________________________________________________________\n",
      "dense_2 (Dense)                 (None, 3072)         12291072    dense_1[0][0]                    \n",
      "__________________________________________________________________________________________________\n",
      "add_1 (Add)                     (None, 3072)         0           dense_2[0][0]                    \n",
      "                                                                 input_1[0][0]                    \n",
      "__________________________________________________________________________________________________\n",
      "dense_3 (Dense)                 (None, 4000)         12292000    add_1[0][0]                      \n",
      "__________________________________________________________________________________________________\n",
      "dense_4 (Dense)                 (None, 10)           40010       dense_3[0][0]                    \n",
      "==================================================================================================\n",
      "Total params: 36,915,082\n",
      "Trainable params: 36,915,082\n",
      "Non-trainable params: 0\n",
      "__________________________________________________________________________________________________\n",
      "WARNING:tensorflow:From C:\\Users\\Tim Lau\\AppData\\Local\\conda\\conda\\envs\\tensorflow\\lib\\site-packages\\tensorflow\\python\\keras\\_impl\\keras\\backend.py:1557: calling reduce_mean (from tensorflow.python.ops.math_ops) with keep_dims is deprecated and will be removed in a future version.\n",
      "Instructions for updating:\n",
      "keep_dims is deprecated, use keepdims instead\n"
     ]
    }
   ],
   "source": [
    "# model\n",
    "x1 = tf.keras.layers.Input(shape=(3072,))\n",
    "a1 = tf.keras.layers.Dense(4000, activation='relu', use_bias=True, kernel_initializer=tf.keras.initializers.RandomNormal(mean=0.0, stddev=0.01, seed=seed), bias_initializer=tf.keras.initializers.Constant(value=0.1))(x1)\n",
    "a2 = tf.keras.layers.Dense(3072, activation='relu', use_bias=True, kernel_initializer=tf.keras.initializers.RandomNormal(mean=0.0, stddev=0.01, seed=seed), bias_initializer=tf.keras.initializers.Constant(value=0.1))(a1)\n",
    "a2 = tf.keras.layers.Add()([a2, x1])\n",
    "a3 = tf.keras.layers.Dense(4000, activation='relu', use_bias=True, kernel_initializer=tf.keras.initializers.RandomNormal(mean=0.0, stddev=0.01, seed=seed), bias_initializer=tf.keras.initializers.Constant(value=0.1))(a2)\n",
    "y_mlp = tf.keras.layers.Dense(num_classes, activation=None, use_bias=True, kernel_initializer=tf.keras.initializers.RandomNormal(mean=0.0, stddev=0.01, seed=seed), bias_initializer=tf.keras.initializers.Constant(value=0.1))(a3)\n",
    "#y_mlp = tf.keras.layers.Dense(num_classes, activation='softmax', use_bias=True, kernel_regularizer=tf.keras.regularizers.l2(l=0.01))(a3)\n",
    "\n",
    "model = tf.keras.models.Model(inputs=x1, outputs=y_mlp)\n",
    "\n",
    "model.summary()\n",
    "\n",
    "sgd1 = tf.keras.optimizers.SGD(lr=0.01, decay=0, momentum=0, nesterov=False)\n",
    "model.compile(loss='mean_squared_error', optimizer=sgd1, metrics=['accuracy'])"
   ]
  },
  {
   "cell_type": "markdown",
   "metadata": {},
   "source": [
    "## Fit the Model using Back Propagation (Vanilla SGD; lr = 0.01)"
   ]
  },
  {
   "cell_type": "code",
   "execution_count": 6,
   "metadata": {},
   "outputs": [
    {
     "name": "stdout",
     "output_type": "stream",
     "text": [
      "Train on 50000 samples, validate on 10000 samples\n",
      "Epoch 1/100\n",
      " - 6s - loss: 0.0881 - acc: 0.2052 - val_loss: 0.0854 - val_acc: 0.2515\n",
      "Epoch 2/100\n",
      " - 5s - loss: 0.0841 - acc: 0.2890 - val_loss: 0.0834 - val_acc: 0.3004\n",
      "Epoch 3/100\n",
      " - 5s - loss: 0.0826 - acc: 0.3200 - val_loss: 0.0823 - val_acc: 0.3267\n",
      "Epoch 4/100\n",
      " - 5s - loss: 0.0817 - acc: 0.3364 - val_loss: 0.0816 - val_acc: 0.3434\n",
      "Epoch 5/100\n",
      " - 5s - loss: 0.0810 - acc: 0.3483 - val_loss: 0.0810 - val_acc: 0.3542\n",
      "Epoch 6/100\n",
      " - 5s - loss: 0.0805 - acc: 0.3583 - val_loss: 0.0806 - val_acc: 0.3632\n",
      "Epoch 7/100\n",
      " - 5s - loss: 0.0801 - acc: 0.3663 - val_loss: 0.0802 - val_acc: 0.3697\n",
      "Epoch 8/100\n",
      " - 5s - loss: 0.0797 - acc: 0.3722 - val_loss: 0.0799 - val_acc: 0.3744\n",
      "Epoch 9/100\n",
      " - 5s - loss: 0.0794 - acc: 0.3774 - val_loss: 0.0796 - val_acc: 0.3796\n",
      "Epoch 10/100\n",
      " - 5s - loss: 0.0791 - acc: 0.3819 - val_loss: 0.0793 - val_acc: 0.3843\n",
      "Epoch 11/100\n",
      " - 5s - loss: 0.0789 - acc: 0.3866 - val_loss: 0.0791 - val_acc: 0.3874\n",
      "Epoch 12/100\n",
      " - 5s - loss: 0.0786 - acc: 0.3907 - val_loss: 0.0789 - val_acc: 0.3908\n",
      "Epoch 13/100\n",
      " - 5s - loss: 0.0784 - acc: 0.3936 - val_loss: 0.0787 - val_acc: 0.3934\n",
      "Epoch 14/100\n",
      " - 5s - loss: 0.0782 - acc: 0.3963 - val_loss: 0.0785 - val_acc: 0.3953\n",
      "Epoch 15/100\n",
      " - 6s - loss: 0.0781 - acc: 0.3992 - val_loss: 0.0783 - val_acc: 0.3978\n",
      "Epoch 16/100\n",
      " - 6s - loss: 0.0779 - acc: 0.4017 - val_loss: 0.0782 - val_acc: 0.3994\n",
      "Epoch 17/100\n",
      " - 6s - loss: 0.0777 - acc: 0.4043 - val_loss: 0.0780 - val_acc: 0.4017\n",
      "Epoch 18/100\n",
      " - 6s - loss: 0.0776 - acc: 0.4066 - val_loss: 0.0779 - val_acc: 0.4046\n",
      "Epoch 19/100\n",
      " - 6s - loss: 0.0774 - acc: 0.4090 - val_loss: 0.0778 - val_acc: 0.4061\n",
      "Epoch 20/100\n",
      " - 6s - loss: 0.0773 - acc: 0.4109 - val_loss: 0.0776 - val_acc: 0.4087\n",
      "Epoch 21/100\n",
      " - 5s - loss: 0.0771 - acc: 0.4123 - val_loss: 0.0775 - val_acc: 0.4101\n",
      "Epoch 22/100\n",
      " - 6s - loss: 0.0770 - acc: 0.4140 - val_loss: 0.0774 - val_acc: 0.4108\n",
      "Epoch 23/100\n",
      " - 6s - loss: 0.0769 - acc: 0.4156 - val_loss: 0.0773 - val_acc: 0.4119\n",
      "Epoch 24/100\n",
      " - 5s - loss: 0.0768 - acc: 0.4174 - val_loss: 0.0772 - val_acc: 0.4134\n",
      "Epoch 25/100\n",
      " - 5s - loss: 0.0766 - acc: 0.4190 - val_loss: 0.0771 - val_acc: 0.4145\n",
      "Epoch 26/100\n",
      " - 6s - loss: 0.0765 - acc: 0.4205 - val_loss: 0.0769 - val_acc: 0.4151\n",
      "Epoch 27/100\n",
      " - 6s - loss: 0.0764 - acc: 0.4217 - val_loss: 0.0768 - val_acc: 0.4158\n",
      "Epoch 28/100\n",
      " - 6s - loss: 0.0763 - acc: 0.4229 - val_loss: 0.0767 - val_acc: 0.4161\n",
      "Epoch 29/100\n",
      " - 6s - loss: 0.0762 - acc: 0.4237 - val_loss: 0.0766 - val_acc: 0.4173\n",
      "Epoch 30/100\n",
      " - 6s - loss: 0.0761 - acc: 0.4246 - val_loss: 0.0765 - val_acc: 0.4187\n",
      "Epoch 31/100\n",
      " - 6s - loss: 0.0760 - acc: 0.4257 - val_loss: 0.0765 - val_acc: 0.4189\n",
      "Epoch 32/100\n",
      " - 6s - loss: 0.0759 - acc: 0.4271 - val_loss: 0.0764 - val_acc: 0.4189\n",
      "Epoch 33/100\n",
      " - 6s - loss: 0.0758 - acc: 0.4282 - val_loss: 0.0763 - val_acc: 0.4195\n",
      "Epoch 34/100\n",
      " - 6s - loss: 0.0757 - acc: 0.4291 - val_loss: 0.0762 - val_acc: 0.4205\n",
      "Epoch 35/100\n",
      " - 6s - loss: 0.0756 - acc: 0.4302 - val_loss: 0.0761 - val_acc: 0.4217\n",
      "Epoch 36/100\n",
      " - 6s - loss: 0.0755 - acc: 0.4312 - val_loss: 0.0760 - val_acc: 0.4222\n",
      "Epoch 37/100\n",
      " - 6s - loss: 0.0754 - acc: 0.4322 - val_loss: 0.0760 - val_acc: 0.4231\n",
      "Epoch 38/100\n",
      " - 6s - loss: 0.0753 - acc: 0.4331 - val_loss: 0.0759 - val_acc: 0.4240\n",
      "Epoch 39/100\n",
      " - 6s - loss: 0.0753 - acc: 0.4339 - val_loss: 0.0758 - val_acc: 0.4249\n",
      "Epoch 40/100\n",
      " - 6s - loss: 0.0752 - acc: 0.4351 - val_loss: 0.0757 - val_acc: 0.4259\n",
      "Epoch 41/100\n",
      " - 6s - loss: 0.0751 - acc: 0.4363 - val_loss: 0.0757 - val_acc: 0.4279\n",
      "Epoch 42/100\n",
      " - 6s - loss: 0.0750 - acc: 0.4374 - val_loss: 0.0756 - val_acc: 0.4287\n",
      "Epoch 43/100\n",
      " - 6s - loss: 0.0749 - acc: 0.4385 - val_loss: 0.0755 - val_acc: 0.4304\n",
      "Epoch 44/100\n",
      " - 6s - loss: 0.0749 - acc: 0.4391 - val_loss: 0.0755 - val_acc: 0.4320\n",
      "Epoch 45/100\n",
      " - 6s - loss: 0.0748 - acc: 0.4398 - val_loss: 0.0754 - val_acc: 0.4330\n",
      "Epoch 46/100\n",
      " - 6s - loss: 0.0747 - acc: 0.4404 - val_loss: 0.0753 - val_acc: 0.4342\n",
      "Epoch 47/100\n",
      " - 6s - loss: 0.0746 - acc: 0.4416 - val_loss: 0.0753 - val_acc: 0.4348\n",
      "Epoch 48/100\n",
      " - 6s - loss: 0.0746 - acc: 0.4425 - val_loss: 0.0752 - val_acc: 0.4350\n",
      "Epoch 49/100\n",
      " - 6s - loss: 0.0745 - acc: 0.4433 - val_loss: 0.0751 - val_acc: 0.4358\n",
      "Epoch 50/100\n",
      " - 6s - loss: 0.0744 - acc: 0.4436 - val_loss: 0.0751 - val_acc: 0.4360\n",
      "Epoch 51/100\n",
      " - 6s - loss: 0.0744 - acc: 0.4443 - val_loss: 0.0750 - val_acc: 0.4368\n",
      "Epoch 52/100\n",
      " - 6s - loss: 0.0743 - acc: 0.4449 - val_loss: 0.0750 - val_acc: 0.4378\n",
      "Epoch 53/100\n",
      " - 6s - loss: 0.0742 - acc: 0.4457 - val_loss: 0.0749 - val_acc: 0.4377\n",
      "Epoch 54/100\n",
      " - 6s - loss: 0.0742 - acc: 0.4466 - val_loss: 0.0748 - val_acc: 0.4387\n",
      "Epoch 55/100\n",
      " - 6s - loss: 0.0741 - acc: 0.4472 - val_loss: 0.0748 - val_acc: 0.4393\n",
      "Epoch 56/100\n",
      " - 6s - loss: 0.0740 - acc: 0.4479 - val_loss: 0.0747 - val_acc: 0.4404\n",
      "Epoch 57/100\n",
      " - 6s - loss: 0.0740 - acc: 0.4486 - val_loss: 0.0747 - val_acc: 0.4405\n",
      "Epoch 58/100\n",
      " - 6s - loss: 0.0739 - acc: 0.4490 - val_loss: 0.0746 - val_acc: 0.4409\n",
      "Epoch 59/100\n",
      " - 6s - loss: 0.0739 - acc: 0.4498 - val_loss: 0.0746 - val_acc: 0.4419\n",
      "Epoch 60/100\n",
      " - 6s - loss: 0.0738 - acc: 0.4505 - val_loss: 0.0745 - val_acc: 0.4429\n",
      "Epoch 61/100\n",
      " - 6s - loss: 0.0737 - acc: 0.4511 - val_loss: 0.0745 - val_acc: 0.4432\n",
      "Epoch 62/100\n",
      " - 6s - loss: 0.0737 - acc: 0.4515 - val_loss: 0.0744 - val_acc: 0.4438\n",
      "Epoch 63/100\n",
      " - 6s - loss: 0.0736 - acc: 0.4523 - val_loss: 0.0744 - val_acc: 0.4444\n",
      "Epoch 64/100\n",
      " - 6s - loss: 0.0736 - acc: 0.4530 - val_loss: 0.0743 - val_acc: 0.4445\n",
      "Epoch 65/100\n",
      " - 5s - loss: 0.0735 - acc: 0.4537 - val_loss: 0.0743 - val_acc: 0.4447\n",
      "Epoch 66/100\n",
      " - 5s - loss: 0.0734 - acc: 0.4544 - val_loss: 0.0742 - val_acc: 0.4450\n",
      "Epoch 67/100\n",
      " - 5s - loss: 0.0734 - acc: 0.4550 - val_loss: 0.0742 - val_acc: 0.4456\n",
      "Epoch 68/100\n",
      " - 6s - loss: 0.0733 - acc: 0.4557 - val_loss: 0.0741 - val_acc: 0.4459\n",
      "Epoch 69/100\n",
      " - 6s - loss: 0.0733 - acc: 0.4562 - val_loss: 0.0741 - val_acc: 0.4458\n",
      "Epoch 70/100\n",
      " - 6s - loss: 0.0732 - acc: 0.4569 - val_loss: 0.0740 - val_acc: 0.4462\n",
      "Epoch 71/100\n",
      " - 6s - loss: 0.0732 - acc: 0.4574 - val_loss: 0.0740 - val_acc: 0.4467\n",
      "Epoch 72/100\n",
      " - 5s - loss: 0.0731 - acc: 0.4582 - val_loss: 0.0740 - val_acc: 0.4472\n",
      "Epoch 73/100\n",
      " - 5s - loss: 0.0731 - acc: 0.4585 - val_loss: 0.0739 - val_acc: 0.4474\n",
      "Epoch 74/100\n",
      " - 6s - loss: 0.0730 - acc: 0.4589 - val_loss: 0.0739 - val_acc: 0.4474\n",
      "Epoch 75/100\n",
      " - 6s - loss: 0.0730 - acc: 0.4596 - val_loss: 0.0738 - val_acc: 0.4482\n",
      "Epoch 76/100\n",
      " - 5s - loss: 0.0729 - acc: 0.4600 - val_loss: 0.0738 - val_acc: 0.4490\n",
      "Epoch 77/100\n",
      " - 6s - loss: 0.0729 - acc: 0.4607 - val_loss: 0.0738 - val_acc: 0.4501\n",
      "Epoch 78/100\n",
      " - 5s - loss: 0.0728 - acc: 0.4609 - val_loss: 0.0737 - val_acc: 0.4503\n",
      "Epoch 79/100\n",
      " - 5s - loss: 0.0728 - acc: 0.4614 - val_loss: 0.0737 - val_acc: 0.4506\n",
      "Epoch 80/100\n",
      " - 6s - loss: 0.0727 - acc: 0.4620 - val_loss: 0.0736 - val_acc: 0.4506\n",
      "Epoch 81/100\n",
      " - 6s - loss: 0.0727 - acc: 0.4624 - val_loss: 0.0736 - val_acc: 0.4507\n",
      "Epoch 82/100\n",
      " - 6s - loss: 0.0727 - acc: 0.4629 - val_loss: 0.0736 - val_acc: 0.4507\n",
      "Epoch 83/100\n",
      " - 6s - loss: 0.0726 - acc: 0.4631 - val_loss: 0.0735 - val_acc: 0.4509\n",
      "Epoch 84/100\n",
      " - 5s - loss: 0.0726 - acc: 0.4634 - val_loss: 0.0735 - val_acc: 0.4514\n",
      "Epoch 85/100\n",
      " - 6s - loss: 0.0725 - acc: 0.4638 - val_loss: 0.0735 - val_acc: 0.4518\n",
      "Epoch 86/100\n",
      " - 6s - loss: 0.0725 - acc: 0.4644 - val_loss: 0.0734 - val_acc: 0.4519\n",
      "Epoch 87/100\n",
      " - 5s - loss: 0.0724 - acc: 0.4647 - val_loss: 0.0734 - val_acc: 0.4520\n",
      "Epoch 88/100\n",
      " - 5s - loss: 0.0724 - acc: 0.4653 - val_loss: 0.0733 - val_acc: 0.4531\n",
      "Epoch 89/100\n",
      " - 5s - loss: 0.0723 - acc: 0.4655 - val_loss: 0.0733 - val_acc: 0.4532\n",
      "Epoch 90/100\n",
      " - 6s - loss: 0.0723 - acc: 0.4661 - val_loss: 0.0733 - val_acc: 0.4536\n",
      "Epoch 91/100\n",
      " - 6s - loss: 0.0723 - acc: 0.4666 - val_loss: 0.0732 - val_acc: 0.4542\n",
      "Epoch 92/100\n",
      " - 6s - loss: 0.0722 - acc: 0.4673 - val_loss: 0.0732 - val_acc: 0.4542\n",
      "Epoch 93/100\n",
      " - 5s - loss: 0.0722 - acc: 0.4676 - val_loss: 0.0732 - val_acc: 0.4545\n",
      "Epoch 94/100\n",
      " - 6s - loss: 0.0721 - acc: 0.4679 - val_loss: 0.0731 - val_acc: 0.4547\n",
      "Epoch 95/100\n",
      " - 6s - loss: 0.0721 - acc: 0.4684 - val_loss: 0.0731 - val_acc: 0.4550\n",
      "Epoch 96/100\n",
      " - 6s - loss: 0.0721 - acc: 0.4688 - val_loss: 0.0731 - val_acc: 0.4549\n"
     ]
    },
    {
     "name": "stdout",
     "output_type": "stream",
     "text": [
      "Epoch 97/100\n",
      " - 5s - loss: 0.0720 - acc: 0.4692 - val_loss: 0.0730 - val_acc: 0.4551\n",
      "Epoch 98/100\n",
      " - 5s - loss: 0.0720 - acc: 0.4696 - val_loss: 0.0730 - val_acc: 0.4559\n",
      "Epoch 99/100\n",
      " - 5s - loss: 0.0719 - acc: 0.4701 - val_loss: 0.0730 - val_acc: 0.4557\n",
      "Epoch 100/100\n",
      " - 6s - loss: 0.0719 - acc: 0.4704 - val_loss: 0.0730 - val_acc: 0.4562\n",
      "Test loss: 0.07295377187728881\n",
      "Test accuracy: 0.4562\n"
     ]
    }
   ],
   "source": [
    "history = model.fit(x_train, y_train,\n",
    "                    batch_size=batch_size,\n",
    "                    epochs=epochs,\n",
    "                    verbose=2,\n",
    "                    validation_data=(x_test, y_test),\n",
    "                    shuffle=False)\n",
    "score = model.evaluate(x_test, y_test, verbose=0)\n",
    "print('Test loss:', score[0])\n",
    "print('Test accuracy:', score[1])\n",
    "# print('Test error:', 1-score[1])"
   ]
  },
  {
   "cell_type": "markdown",
   "metadata": {},
   "source": [
    "## Loss and Accuracy Plots"
   ]
  },
  {
   "cell_type": "code",
   "execution_count": 7,
   "metadata": {},
   "outputs": [
    {
     "data": {
      "image/png": "[encoded data removed]",
      "text/plain": [
       "<matplotlib.figure.Figure at 0x2b75c52d8d0>"
      ]
     },
     "metadata": {},
     "output_type": "display_data"
    },
    {
     "data": {
      "text/plain": [
       "<matplotlib.figure.Figure at 0x2b75c52def0>"
      ]
     },
     "metadata": {},
     "output_type": "display_data"
    },
    {
     "data": {
      "image/png": "[encoded data removed]",
      "text/plain": [
       "<matplotlib.figure.Figure at 0x2b75c53c860>"
      ]
     },
     "metadata": {},
     "output_type": "display_data"
    }
   ],
   "source": [
    "# Plot of Losses\n",
    "history_dict = history.history\n",
    "# history_dict.keys()\n",
    "loss_values = history_dict['loss']\n",
    "val_loss_values = history_dict['val_loss']\n",
    "acc_values = history_dict['acc']\n",
    "val_acc_values = history_dict['val_acc']\n",
    "\n",
    "epochs_index = range(1,len(loss_values)+1)\n",
    "\n",
    "fig_loss = plt.figure(figsize=(6, 6))\n",
    "plt.plot(epochs_index, loss_values, 'b', label='Training loss')\n",
    "plt.plot(epochs_index, val_loss_values, 'b', c='orange', label='Validation loss')\n",
    "plt.title('Three-layer Fully-connected Network (2nd ResNet Hidden Layer)')\n",
    "plt.xlabel('Epochs')\n",
    "plt.ylabel('Loss')\n",
    "plt.legend()\n",
    "\n",
    "plt.show()\n",
    "\n",
    "\n",
    "\n",
    "#%%\n",
    "# Plot of Accuracies\n",
    "plt.clf()\n",
    "fig_accuracy = plt.figure(figsize=(6, 6))\n",
    "plt.plot(epochs_index,acc_values,'b', label='Training accuracy')\n",
    "plt.plot(epochs_index,val_acc_values,'b', c='orange', label='Validation accuracy')\n",
    "plt.title('Three-layer Fully-connected Network (2nd ResNet Hidden Layer)')\n",
    "plt.xlabel('Epochs')\n",
    "plt.ylabel('Accuracy')\n",
    "plt.legend()\n",
    "\n",
    "plt.show()"
   ]
  },
  {
   "cell_type": "code",
   "execution_count": 8,
   "metadata": {},
   "outputs": [],
   "source": [
    "fig_accuracy.savefig('fig_accuracy_cifar.eps', format='eps', dpi=2000)"
   ]
  },
  {
   "cell_type": "markdown",
   "metadata": {},
   "source": [
    "# The Second Model (MLP)"
   ]
  },
  {
   "cell_type": "markdown",
   "metadata": {},
   "source": [
    "## Model Setup"
   ]
  },
  {
   "cell_type": "markdown",
   "metadata": {},
   "source": [
    "Input -> Fully Connected (3072) -> ReLU -> Fully Connected (3072) -> ReLU -> Fully Connected (3072) -> ReLU -> Fully Connected (10) -> Mean squared loss"
   ]
  },
  {
   "cell_type": "code",
   "execution_count": null,
   "metadata": {},
   "outputs": [
    {
     "name": "stdout",
     "output_type": "stream",
     "text": [
      "_________________________________________________________________\n",
      "Layer (type)                 Output Shape              Param #   \n",
      "=================================================================\n",
      "input_2 (InputLayer)         (None, 3072)              0         \n",
      "_________________________________________________________________\n",
      "dense_5 (Dense)              (None, 4000)              12292000  \n",
      "_________________________________________________________________\n",
      "dense_6 (Dense)              (None, 1000)              4001000   \n",
      "_________________________________________________________________\n",
      "dense_7 (Dense)              (None, 4000)              4004000   \n",
      "_________________________________________________________________\n",
      "dense_8 (Dense)              (None, 10)                40010     \n",
      "=================================================================\n",
      "Total params: 20,337,010\n",
      "Trainable params: 20,337,010\n",
      "Non-trainable params: 0\n",
      "_________________________________________________________________\n"
     ]
    }
   ],
   "source": [
    "# model\n",
    "x0 = tf.keras.layers.Input(shape=(3072,))\n",
    "u1 = tf.keras.layers.Dense(4e3, activation='relu', use_bias=True, kernel_initializer=tf.keras.initializers.RandomNormal(mean=0.0, stddev=0.01, seed=seed), bias_initializer=tf.keras.initializers.Constant(value=0.1))(x0)\n",
    "u2 = tf.keras.layers.Dense(1e3, activation='relu', use_bias=True, kernel_initializer=tf.keras.initializers.RandomNormal(mean=0.0, stddev=0.01, seed=seed), bias_initializer=tf.keras.initializers.Constant(value=0.1))(u1)\n",
    "u3 = tf.keras.layers.Dense(4e3, activation='relu', use_bias=True, kernel_initializer=tf.keras.initializers.RandomNormal(mean=0.0, stddev=0.01, seed=seed), bias_initializer=tf.keras.initializers.Constant(value=0.1))(u2)\n",
    "y_mlp_2 = tf.keras.layers.Dense(num_classes, activation=None, use_bias=True, kernel_initializer=tf.keras.initializers.RandomNormal(mean=0.0, stddev=0.01, seed=seed), bias_initializer=tf.keras.initializers.Constant(value=0.1))(u3)\n",
    "#y_mlp = tf.keras.layers.Dense(num_classes, activation='softmax', use_bias=True, kernel_regularizer=tf.keras.regularizers.l2(l=0.01))(a3)\n",
    "\n",
    "model_2 = tf.keras.models.Model(inputs=x0, outputs=y_mlp_2)\n",
    "\n",
    "model_2.summary()\n",
    "\n",
    "sgd2 = tf.keras.optimizers.SGD(lr=0.05, decay=0, momentum=0, nesterov=False)\n",
    "model_2.compile(loss='mean_squared_error', optimizer=sgd2, metrics=['accuracy'])"
   ]
  },
  {
   "cell_type": "markdown",
   "metadata": {},
   "source": [
    "## Fit the Model using Back Propagation (Vanilla SGD; lr = 0.05)"
   ]
  },
  {
   "cell_type": "code",
   "execution_count": null,
   "metadata": {},
   "outputs": [
    {
     "name": "stdout",
     "output_type": "stream",
     "text": [
      "Train on 50000 samples, validate on 10000 samples\n",
      "Epoch 1/100\n",
      " - 4s - loss: 0.0881 - acc: 0.2091 - val_loss: 0.0866 - val_acc: 0.2357\n",
      "Epoch 2/100\n",
      " - 4s - loss: 0.0855 - acc: 0.2800 - val_loss: 0.0848 - val_acc: 0.2757\n",
      "Epoch 3/100\n",
      " - 4s - loss: 0.0841 - acc: 0.3016 - val_loss: 0.0837 - val_acc: 0.3017\n",
      "Epoch 4/100\n",
      " - 4s - loss: 0.0832 - acc: 0.3170 - val_loss: 0.0829 - val_acc: 0.3189\n",
      "Epoch 5/100\n",
      " - 4s - loss: 0.0825 - acc: 0.3284 - val_loss: 0.0823 - val_acc: 0.3309\n",
      "Epoch 6/100\n",
      " - 4s - loss: 0.0820 - acc: 0.3393 - val_loss: 0.0818 - val_acc: 0.3440\n",
      "Epoch 7/100\n",
      " - 4s - loss: 0.0816 - acc: 0.3479 - val_loss: 0.0814 - val_acc: 0.3533\n",
      "Epoch 8/100\n",
      " - 4s - loss: 0.0812 - acc: 0.3545 - val_loss: 0.0811 - val_acc: 0.3594\n",
      "Epoch 9/100\n",
      " - 4s - loss: 0.0808 - acc: 0.3603 - val_loss: 0.0807 - val_acc: 0.3661\n",
      "Epoch 10/100\n",
      " - 4s - loss: 0.0805 - acc: 0.3650 - val_loss: 0.0804 - val_acc: 0.3722\n",
      "Epoch 11/100\n",
      " - 4s - loss: 0.0802 - acc: 0.3704 - val_loss: 0.0801 - val_acc: 0.3771\n",
      "Epoch 12/100\n",
      " - 4s - loss: 0.0799 - acc: 0.3742 - val_loss: 0.0798 - val_acc: 0.3808\n",
      "Epoch 13/100\n",
      " - 4s - loss: 0.0796 - acc: 0.3782 - val_loss: 0.0795 - val_acc: 0.3852\n",
      "Epoch 14/100\n",
      " - 4s - loss: 0.0793 - acc: 0.3809 - val_loss: 0.0793 - val_acc: 0.3884\n",
      "Epoch 15/100\n",
      " - 4s - loss: 0.0791 - acc: 0.3847 - val_loss: 0.0790 - val_acc: 0.3913\n",
      "Epoch 16/100\n",
      " - 4s - loss: 0.0788 - acc: 0.3884 - val_loss: 0.0788 - val_acc: 0.3958\n",
      "Epoch 17/100\n",
      " - 4s - loss: 0.0786 - acc: 0.3907 - val_loss: 0.0786 - val_acc: 0.3985\n",
      "Epoch 18/100\n",
      " - 4s - loss: 0.0784 - acc: 0.3931 - val_loss: 0.0783 - val_acc: 0.4018\n",
      "Epoch 19/100\n",
      " - 4s - loss: 0.0782 - acc: 0.3960 - val_loss: 0.0781 - val_acc: 0.4038\n",
      "Epoch 20/100\n",
      " - 4s - loss: 0.0779 - acc: 0.3982 - val_loss: 0.0779 - val_acc: 0.4072\n",
      "Epoch 21/100\n",
      " - 4s - loss: 0.0777 - acc: 0.4008 - val_loss: 0.0777 - val_acc: 0.4090\n",
      "Epoch 22/100\n",
      " - 4s - loss: 0.0775 - acc: 0.4023 - val_loss: 0.0775 - val_acc: 0.4104\n",
      "Epoch 23/100\n",
      " - 4s - loss: 0.0773 - acc: 0.4053 - val_loss: 0.0773 - val_acc: 0.4119\n",
      "Epoch 24/100\n",
      " - 4s - loss: 0.0772 - acc: 0.4070 - val_loss: 0.0771 - val_acc: 0.4148\n",
      "Epoch 25/100\n",
      " - 4s - loss: 0.0770 - acc: 0.4083 - val_loss: 0.0769 - val_acc: 0.4154\n",
      "Epoch 26/100\n",
      " - 4s - loss: 0.0768 - acc: 0.4107 - val_loss: 0.0768 - val_acc: 0.4177\n",
      "Epoch 27/100\n",
      " - 4s - loss: 0.0766 - acc: 0.4124 - val_loss: 0.0766 - val_acc: 0.4186\n",
      "Epoch 28/100\n",
      " - 4s - loss: 0.0764 - acc: 0.4141 - val_loss: 0.0764 - val_acc: 0.4194\n",
      "Epoch 29/100\n",
      " - 4s - loss: 0.0762 - acc: 0.4153 - val_loss: 0.0762 - val_acc: 0.4209\n",
      "Epoch 30/100\n",
      " - 4s - loss: 0.0761 - acc: 0.4162 - val_loss: 0.0761 - val_acc: 0.4227\n",
      "Epoch 31/100\n",
      " - 4s - loss: 0.0759 - acc: 0.4177 - val_loss: 0.0759 - val_acc: 0.4243\n",
      "Epoch 32/100\n",
      " - 4s - loss: 0.0758 - acc: 0.4187 - val_loss: 0.0758 - val_acc: 0.4244\n",
      "Epoch 33/100\n",
      " - 4s - loss: 0.0756 - acc: 0.4202 - val_loss: 0.0756 - val_acc: 0.4243\n",
      "Epoch 34/100\n",
      " - 4s - loss: 0.0754 - acc: 0.4217 - val_loss: 0.0755 - val_acc: 0.4247\n",
      "Epoch 35/100\n",
      " - 4s - loss: 0.0753 - acc: 0.4226 - val_loss: 0.0753 - val_acc: 0.4257\n",
      "Epoch 36/100\n",
      " - 4s - loss: 0.0751 - acc: 0.4234 - val_loss: 0.0752 - val_acc: 0.4270\n",
      "Epoch 37/100\n",
      " - 4s - loss: 0.0750 - acc: 0.4245 - val_loss: 0.0750 - val_acc: 0.4287\n",
      "Epoch 38/100\n",
      " - 4s - loss: 0.0749 - acc: 0.4254 - val_loss: 0.0749 - val_acc: 0.4298\n",
      "Epoch 39/100\n",
      " - 4s - loss: 0.0747 - acc: 0.4265 - val_loss: 0.0748 - val_acc: 0.4305\n",
      "Epoch 40/100\n",
      " - 4s - loss: 0.0746 - acc: 0.4278 - val_loss: 0.0746 - val_acc: 0.4321\n",
      "Epoch 41/100\n",
      " - 4s - loss: 0.0745 - acc: 0.4286 - val_loss: 0.0745 - val_acc: 0.4334\n",
      "Epoch 42/100\n",
      " - 4s - loss: 0.0743 - acc: 0.4303 - val_loss: 0.0744 - val_acc: 0.4347\n",
      "Epoch 43/100\n",
      " - 4s - loss: 0.0742 - acc: 0.4311 - val_loss: 0.0743 - val_acc: 0.4355\n",
      "Epoch 44/100\n",
      " - 4s - loss: 0.0741 - acc: 0.4325 - val_loss: 0.0742 - val_acc: 0.4364\n",
      "Epoch 45/100\n",
      " - 4s - loss: 0.0740 - acc: 0.4339 - val_loss: 0.0741 - val_acc: 0.4372\n",
      "Epoch 46/100\n",
      " - 4s - loss: 0.0739 - acc: 0.4351 - val_loss: 0.0740 - val_acc: 0.4381\n",
      "Epoch 47/100\n",
      " - 4s - loss: 0.0737 - acc: 0.4360 - val_loss: 0.0739 - val_acc: 0.4382\n",
      "Epoch 48/100\n",
      " - 4s - loss: 0.0736 - acc: 0.4373 - val_loss: 0.0738 - val_acc: 0.4393\n",
      "Epoch 49/100\n",
      " - 4s - loss: 0.0735 - acc: 0.4384 - val_loss: 0.0737 - val_acc: 0.4402\n",
      "Epoch 50/100\n",
      " - 4s - loss: 0.0734 - acc: 0.4396 - val_loss: 0.0736 - val_acc: 0.4416\n",
      "Epoch 51/100\n",
      " - 4s - loss: 0.0733 - acc: 0.4409 - val_loss: 0.0735 - val_acc: 0.4423\n",
      "Epoch 52/100\n",
      " - 4s - loss: 0.0732 - acc: 0.4419 - val_loss: 0.0734 - val_acc: 0.4434\n",
      "Epoch 53/100\n",
      " - 4s - loss: 0.0731 - acc: 0.4430 - val_loss: 0.0733 - val_acc: 0.4438\n",
      "Epoch 54/100\n",
      " - 4s - loss: 0.0730 - acc: 0.4438 - val_loss: 0.0732 - val_acc: 0.4440\n",
      "Epoch 55/100\n",
      " - 4s - loss: 0.0728 - acc: 0.4449 - val_loss: 0.0732 - val_acc: 0.4445\n",
      "Epoch 56/100\n",
      " - 4s - loss: 0.0727 - acc: 0.4459 - val_loss: 0.0731 - val_acc: 0.4459\n",
      "Epoch 57/100\n",
      " - 4s - loss: 0.0726 - acc: 0.4469 - val_loss: 0.0730 - val_acc: 0.4463\n",
      "Epoch 58/100\n",
      " - 4s - loss: 0.0725 - acc: 0.4479 - val_loss: 0.0729 - val_acc: 0.4479\n",
      "Epoch 59/100\n",
      " - 4s - loss: 0.0724 - acc: 0.4492 - val_loss: 0.0728 - val_acc: 0.4494\n",
      "Epoch 60/100\n",
      " - 4s - loss: 0.0723 - acc: 0.4504 - val_loss: 0.0727 - val_acc: 0.4503\n",
      "Epoch 61/100\n",
      " - 4s - loss: 0.0722 - acc: 0.4513 - val_loss: 0.0727 - val_acc: 0.4509\n",
      "Epoch 62/100\n",
      " - 4s - loss: 0.0721 - acc: 0.4529 - val_loss: 0.0726 - val_acc: 0.4514\n",
      "Epoch 63/100\n",
      " - 4s - loss: 0.0720 - acc: 0.4541 - val_loss: 0.0725 - val_acc: 0.4526\n",
      "Epoch 64/100\n",
      " - 4s - loss: 0.0719 - acc: 0.4549 - val_loss: 0.0724 - val_acc: 0.4530\n",
      "Epoch 65/100\n",
      " - 4s - loss: 0.0719 - acc: 0.4560 - val_loss: 0.0723 - val_acc: 0.4542\n",
      "Epoch 66/100\n",
      " - 4s - loss: 0.0718 - acc: 0.4568 - val_loss: 0.0723 - val_acc: 0.4544\n",
      "Epoch 67/100\n",
      " - 4s - loss: 0.0717 - acc: 0.4580 - val_loss: 0.0722 - val_acc: 0.4556\n",
      "Epoch 68/100\n",
      " - 4s - loss: 0.0716 - acc: 0.4589 - val_loss: 0.0721 - val_acc: 0.4569\n",
      "Epoch 69/100\n",
      " - 4s - loss: 0.0715 - acc: 0.4600 - val_loss: 0.0721 - val_acc: 0.4578\n",
      "Epoch 70/100\n"
     ]
    }
   ],
   "source": [
    "history_2 = model_2.fit(x_train, y_train,\n",
    "                    batch_size=batch_size,\n",
    "                    epochs=epochs,\n",
    "                    verbose=2,\n",
    "                    validation_data=(x_test, y_test),\n",
    "                    shuffle=False)\n",
    "score_2 = model_2.evaluate(x_test, y_test, verbose=0)\n",
    "print('Test loss:', score_2[0])\n",
    "print('Test accuracy:', score_2[1])\n",
    "#print('Test error:', 1-score[1])"
   ]
  },
  {
   "cell_type": "markdown",
   "metadata": {},
   "source": [
    "## Loss and Accuracy Plots"
   ]
  },
  {
   "cell_type": "code",
   "execution_count": null,
   "metadata": {},
   "outputs": [],
   "source": [
    "# Plot of Losses\n",
    "history_dict_2 = history_2.history\n",
    "# history_dict.keys()\n",
    "loss_values_2 = history_dict_2['loss']\n",
    "val_loss_values_2 = history_dict_2['val_loss']\n",
    "acc_values_2 = history_dict_2['acc']\n",
    "val_acc_values_2 = history_dict_2['val_acc']\n",
    "\n",
    "epochs_index = range(1,len(loss_values_2)+1)\n",
    "fig_loss_2 = plt.figure(figsize=(6, 6))\n",
    "plt.plot(epochs_index, loss_values_2, 'b', label='Training loss')\n",
    "plt.plot(epochs_index, val_loss_values_2, 'b', c='orange', label='Validation loss')\n",
    "plt.title('Three-layer MLP')\n",
    "plt.xlabel('Epochs')\n",
    "plt.ylabel('Loss')\n",
    "plt.legend()\n",
    "\n",
    "plt.show()\n",
    "\n",
    "\n",
    "\n",
    "#%%\n",
    "# Plot of Accuracies\n",
    "plt.clf()\n",
    "fig_accuracy_2 = plt.figure(figsize=(6, 6))\n",
    "plt.plot(epochs_index,acc_values_2,'b', label='Training accuracy')\n",
    "plt.plot(epochs_index,val_acc_values_2,'b', c='orange', label='Validation accuracy')\n",
    "plt.title('Three-layer MLP')\n",
    "plt.xlabel('Epochs')\n",
    "plt.ylabel('Accuracy')\n",
    "plt.legend()\n",
    "\n",
    "plt.show()"
   ]
  },
  {
   "cell_type": "markdown",
   "metadata": {},
   "source": [
    "## Save the Plots"
   ]
  },
  {
   "cell_type": "code",
   "execution_count": null,
   "metadata": {},
   "outputs": [],
   "source": [
    "fig_accuracy_2.savefig('fig_accuracy_cifar_2.eps', format='eps', dpi=2000)"
   ]
  },
  {
   "cell_type": "markdown",
   "metadata": {},
   "source": [
    "# The Third Model (MLP) (Cross-entropy Loss)"
   ]
  },
  {
   "cell_type": "markdown",
   "metadata": {},
   "source": [
    "Input -> Fully Connected (3072) -> ReLU -> Fully Connected (3072) -> ReLU -> Fully Connected (3072) -> ReLU -> Fully Connected (10) -> Softmax -> Cross-entropy loss"
   ]
  },
  {
   "cell_type": "code",
   "execution_count": null,
   "metadata": {},
   "outputs": [],
   "source": [
    "# model\n",
    "z0 = tf.keras.layers.Input(shape=(3072,))\n",
    "z1 = tf.keras.layers.Dense(4e3, activation='relu', use_bias=True, kernel_initializer=tf.keras.initializers.RandomNormal(mean=0.0, stddev=0.01, seed=seed), bias_initializer=tf.keras.initializers.Constant(value=0.1))(z0)\n",
    "z2 = tf.keras.layers.Dense(1e3, activation='relu', use_bias=True, kernel_initializer=tf.keras.initializers.RandomNormal(mean=0.0, stddev=0.01, seed=seed), bias_initializer=tf.keras.initializers.Constant(value=0.1))(z1)\n",
    "z3 = tf.keras.layers.Dense(4e3, activation='relu', use_bias=True, kernel_initializer=tf.keras.initializers.RandomNormal(mean=0.0, stddev=0.01, seed=seed), bias_initializer=tf.keras.initializers.Constant(value=0.1))(z2)\n",
    "#y_mlp_2 = tf.keras.layers.Dense(num_classes, activation=None, use_bias=True)(z3)\n",
    "y_mlp_3 = tf.keras.layers.Dense(num_classes, activation='softmax', use_bias=True, kernel_initializer=tf.keras.initializers.RandomNormal(mean=0.0, stddev=0.01, seed=seed), bias_initializer=tf.keras.initializers.Constant(value=0.1))(z3)\n",
    "\n",
    "model_3 = tf.keras.models.Model(inputs=z0, outputs=y_mlp_3)\n",
    "\n",
    "model_3.summary()\n",
    "\n",
    "sgd3 = tf.keras.optimizers.SGD(lr=0.01, decay=0, momentum=0, nesterov=False)\n",
    "model_3.compile(loss='categorical_crossentropy', optimizer=sgd3, metrics=['accuracy'])"
   ]
  },
  {
   "cell_type": "markdown",
   "metadata": {},
   "source": [
    "## Fit the Model using Back Propagation (Vanilla SGD)"
   ]
  },
  {
   "cell_type": "code",
   "execution_count": null,
   "metadata": {},
   "outputs": [],
   "source": [
    "history_3 = model_3.fit(x_train, y_train,\n",
    "                    batch_size=batch_size,\n",
    "                    epochs=epochs,\n",
    "                    verbose=2,\n",
    "                    validation_data=(x_test, y_test),\n",
    "                    shuffle=False)\n",
    "score_3 = model_3.evaluate(x_test, y_test, verbose=0)\n",
    "print('Test loss:', score_3[0])\n",
    "print('Test accuracy:', score_3[1])\n",
    "#print('Test error:', 1-score[1])"
   ]
  },
  {
   "cell_type": "markdown",
   "metadata": {},
   "source": [
    "## Loss and Accuracy Plots"
   ]
  },
  {
   "cell_type": "code",
   "execution_count": null,
   "metadata": {},
   "outputs": [],
   "source": [
    "# Plot of Losses\n",
    "history_dict_3 = history_3.history\n",
    "# history_dict.keys()\n",
    "loss_values_3 = history_dict_3['loss']\n",
    "val_loss_values_3 = history_dict_3['val_loss']\n",
    "acc_values_3 = history_dict_3['acc']\n",
    "val_acc_values_3 = history_dict_3['val_acc']\n",
    "\n",
    "epochs_index = range(1,len(loss_values_3)+1)\n",
    "fig_loss_3 = plt.figure(figsize=(6, 6))\n",
    "plt.plot(epochs_index, loss_values_3, 'b', label='Training loss')\n",
    "plt.plot(epochs_index, val_loss_values_3, 'b', c='orange', label='Validation loss')\n",
    "plt.title('Three-layer MLP')\n",
    "plt.xlabel('Epochs')\n",
    "plt.ylabel('Loss')\n",
    "plt.legend()\n",
    "\n",
    "plt.show()\n",
    "\n",
    "\n",
    "\n",
    "#%%\n",
    "# Plot of Accuracies\n",
    "plt.clf()\n",
    "fig_accuracy_3 = plt.figure(figsize=(6, 6))\n",
    "plt.plot(epochs_index,acc_values_3,'b', label='Training accuracy')\n",
    "plt.plot(epochs_index,val_acc_values_3,'b', c='orange', label='Validation accuracy')\n",
    "plt.title('Three-layer MLP')\n",
    "plt.xlabel('Epochs')\n",
    "plt.ylabel('Accuracy')\n",
    "plt.legend()\n",
    "\n",
    "plt.show()"
   ]
  },
  {
   "cell_type": "markdown",
   "metadata": {},
   "source": [
    "## Save the Plots"
   ]
  },
  {
   "cell_type": "code",
   "execution_count": null,
   "metadata": {},
   "outputs": [],
   "source": [
    "fig_accuracy_3.savefig('fig_accuracy_cifar_3.eps', format='eps', dpi=2000)"
   ]
  }
 ],
 "metadata": {
  "kernelspec": {
   "display_name": "Python 3",
   "language": "python",
   "name": "python3"
  },
  "language_info": {
   "codemirror_mode": {
    "name": "ipython",
    "version": 3
   },
   "file_extension": ".py",
   "mimetype": "text/x-python",
   "name": "python",
   "nbconvert_exporter": "python",
   "pygments_lexer": "ipython3",
   "version": "3.6.3"
  }
 },
 "nbformat": 4,
 "nbformat_minor": 2
}
